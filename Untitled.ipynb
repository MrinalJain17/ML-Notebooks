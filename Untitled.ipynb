{
 "cells": [
  {
   "cell_type": "code",
   "execution_count": 269,
   "metadata": {
    "collapsed": true
   },
   "outputs": [],
   "source": [
    "import pandas as pd\n",
    "import numpy as np\n",
    "import matplotlib.pyplot as plt\n",
    "%matplotlib inline"
   ]
  },
  {
   "cell_type": "code",
   "execution_count": 302,
   "metadata": {},
   "outputs": [],
   "source": [
    "d = np.random.rand(10, 2)"
   ]
  },
  {
   "cell_type": "code",
   "execution_count": 303,
   "metadata": {},
   "outputs": [
    {
     "data": {
      "text/plain": [
       "array([[ 0.83695479,  0.47947438],\n",
       "       [ 0.77672773,  0.83808787],\n",
       "       [ 0.05237802,  0.99716861],\n",
       "       [ 0.93672714,  0.06056754],\n",
       "       [ 0.84175036,  0.40824205],\n",
       "       [ 0.13352299,  0.1636928 ],\n",
       "       [ 0.88736046,  0.93943059],\n",
       "       [ 0.79550714,  0.40625274],\n",
       "       [ 0.70574928,  0.66411989],\n",
       "       [ 0.66814548,  0.86092008]])"
      ]
     },
     "execution_count": 303,
     "metadata": {},
     "output_type": "execute_result"
    }
   ],
   "source": [
    "d"
   ]
  },
  {
   "cell_type": "code",
   "execution_count": 316,
   "metadata": {},
   "outputs": [],
   "source": [
    "class KMeans(object):\n",
    "    \n",
    "    def __init__(self, data, k=5, n_iter=10):\n",
    "        \n",
    "        self.k = k\n",
    "        self.data = data\n",
    "        self.cluster_centers = np.zeros((k, data.shape[1]))\n",
    "        self.n_iter = n_iter\n",
    "        self.assigned_clusters = np.zeros(data.shape[0])\n",
    "        \n",
    "    def fit(self):\n",
    "        \n",
    "        # for i in range(self.n_iter):\n",
    "        self._run_iteration()\n",
    "        \n",
    "    def predict(self):\n",
    "        \n",
    "        pass\n",
    "        \n",
    "    def _run_iteration(self):\n",
    "        \n",
    "        self._update_cluster_centers(True)\n",
    "        self._assign_clusters()\n",
    "    \n",
    "    def _update_cluster_centers(self, initialize=False):\n",
    "        \n",
    "        if initialize:      # Initially, the 'k' clusters are initialized by 'k' random points from the data\n",
    "            shuffled_index = np.arange(self.data.shape[0])\n",
    "            np.random.shuffle(shuffled_index)\n",
    "            self.cluster_centers += self.data[shuffled_index[:self.k]]\n",
    "        \n",
    "        else:\n",
    "            for i in range(self.k):\n",
    "                self.cluster_centers[i] = np.mean(self.data[np.where(self.assigned_clusters==i)], axis=0)\n",
    "            self._assign_clusters()\n",
    "        \n",
    "    def _assign_clusters(self):\n",
    "        \n",
    "        num = self.data.shape[0]     # No. of data points\n",
    "        distance_matrix = np.zeros(num * self.k).reshape(num, self.k)\n",
    "        for i, cluster in enumerate(self.cluster_centers):\n",
    "            distance = np.apply_along_axis(self._euclidean_distance, 1, self.data, cluster)\n",
    "            distance_matrix[:,i] = distance\n",
    "            \n",
    "        distance_matrix = np.array(distance_matrix)\n",
    "        if (self.assigned_clusters == distance_matrix.argmin(axis=1)).all():\n",
    "            self._return_results()\n",
    "        else:\n",
    "            self.assigned_clusters = distance_matrix.argmin(axis=1)\n",
    "            self._update_cluster_centers()\n",
    "        \n",
    "    def _euclidean_distance(self, x1, x2):\n",
    "        \n",
    "        # Returns the Euclidean's Distance between two points, x1 and x2\n",
    "        return np.sqrt(np.sum(np.square(x1 - x2)))\n",
    "        \n",
    "    def _return_results(self):\n",
    "        \n",
    "        print('The data has been successfully clustered.')"
   ]
  },
  {
   "cell_type": "code",
   "execution_count": 305,
   "metadata": {
    "collapsed": true
   },
   "outputs": [],
   "source": [
    "cluster = KMeans(d, 3)"
   ]
  },
  {
   "cell_type": "code",
   "execution_count": 306,
   "metadata": {},
   "outputs": [
    {
     "name": "stdout",
     "output_type": "stream",
     "text": [
      "The data has been successfully clustered.\n"
     ]
    }
   ],
   "source": [
    "cluster.fit()"
   ]
  },
  {
   "cell_type": "code",
   "execution_count": 307,
   "metadata": {},
   "outputs": [
    {
     "data": {
      "text/plain": [
       "array([2, 0, 0, 1, 2, 2, 0, 2, 0, 0], dtype=int64)"
      ]
     },
     "execution_count": 307,
     "metadata": {},
     "output_type": "execute_result"
    }
   ],
   "source": [
    "cluster.assigned_clusters"
   ]
  },
  {
   "cell_type": "code",
   "execution_count": 309,
   "metadata": {},
   "outputs": [],
   "source": [
    "m = cluster.cluster_centers"
   ]
  },
  {
   "cell_type": "code",
   "execution_count": 315,
   "metadata": {},
   "outputs": [
    {
     "data": {
      "text/plain": [
       "<matplotlib.collections.PathCollection at 0x2b4b198da90>"
      ]
     },
     "execution_count": 315,
     "metadata": {},
     "output_type": "execute_result"
    },
    {
     "data": {
      "image/png": "[encoded data removed]",
      "text/plain": [
       "<matplotlib.figure.Figure at 0x2b4b192c5f8>"
      ]
     },
     "metadata": {},
     "output_type": "display_data"
    }
   ],
   "source": [
    "plt.scatter(m[:,0], m[:,1], marker='x')"
   ]
  },
  {
   "cell_type": "code",
   "execution_count": 311,
   "metadata": {},
   "outputs": [
    {
     "data": {
      "text/plain": [
       "<matplotlib.collections.PathCollection at 0x2b4ae164da0>"
      ]
     },
     "execution_count": 311,
     "metadata": {},
     "output_type": "execute_result"
    },
    {
     "data": {
      "image/png": "[encoded data removed]",
      "text/plain": [
       "<matplotlib.figure.Figure at 0x2b4ae3147b8>"
      ]
     },
     "metadata": {},
     "output_type": "display_data"
    }
   ],
   "source": [
    "plt.scatter(d[:,0], d[:,1])"
   ]
  },
  {
   "cell_type": "code",
   "execution_count": null,
   "metadata": {
    "collapsed": true
   },
   "outputs": [],
   "source": []
  }
 ],
 "metadata": {
  "kernelspec": {
   "display_name": "Python 3",
   "language": "python",
   "name": "python3"
  },
  "language_info": {
   "codemirror_mode": {
    "name": "ipython",
    "version": 3
   },
   "file_extension": ".py",
   "mimetype": "text/x-python",
   "name": "python",
   "nbconvert_exporter": "python",
   "pygments_lexer": "ipython3",
   "version": "3.6.2"
  }
 },
 "nbformat": 4,
 "nbformat_minor": 2
}
